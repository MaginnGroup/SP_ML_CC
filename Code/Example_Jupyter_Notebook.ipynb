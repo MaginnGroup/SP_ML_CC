{
 "cells": [
  {
   "cell_type": "markdown",
   "id": "562229bc",
   "metadata": {},
   "source": [
    "# Supporting Jupyter Notebook\n",
    "\n",
    "## Sigma Profiles in Deep Learning: Towards a Universal Molecular Descriptor"
   ]
  },
  {
   "cell_type": "markdown",
   "id": "2ac78757",
   "metadata": {},
   "source": [
    "This supporting Jupyter Notebook illustrates some of the code developed throughout this work. It is divided in two sections. Section A allows the user to evaluate the performance of the convolutional neural networks developed. Section B allows the user to use the convolutional neural networks to make predictions on specific compounds included in the databases."
   ]
  },
  {
   "cell_type": "markdown",
   "id": "f8e4be29",
   "metadata": {},
   "source": [
    "## Section A\n",
    "\n",
    "This section allows the user to evaluate the performance of the CNNs developed in this work. To do so, the normalization weights for features and labels, as well as the tensorflow model, are loaded. Then, the entire sigma profile database available for the desired property is normalized and passed through the tensorflow model (CNN). The predictions obtained are unnormalized and compared against the experimental values."
   ]
  },
  {
   "cell_type": "markdown",
   "id": "f4eb0111",
   "metadata": {},
   "source": [
    "Necessary imports:"
   ]
  },
  {
   "cell_type": "code",
   "execution_count": 1,
   "id": "90561e3d",
   "metadata": {},
   "outputs": [],
   "source": [
    "# General\n",
    "import os\n",
    "import pickle\n",
    "\n",
    "# Specific\n",
    "import pandas\n",
    "import numpy\n",
    "import tensorflow\n",
    "from sklearn.metrics import r2_score\n",
    "from matplotlib import pyplot as plt\n",
    "\n",
    "# Local\n",
    "from lib import mlAuxiliary as ml"
   ]
  },
  {
   "cell_type": "markdown",
   "id": "db393b98",
   "metadata": {},
   "source": [
    "Choose the database code to be evaluated (MM, BP, VP, D, RI, S, D_20, RI_20,S_25) and load the database:"
   ]
  },
  {
   "cell_type": "code",
   "execution_count": 2,
   "id": "0e7017c2",
   "metadata": {},
   "outputs": [],
   "source": [
    "# Database\n",
    "code='MM' # Change here to MM, BP, VP, D, RI, S, D_20, RI_20, or S_25, as desired.\n",
    "database=code+'_mlDatabase'\n",
    "# Build databasePath and load database\n",
    "databasePath=os.path.join('..','Databases',database+'.csv')\n",
    "mlDatabase=pandas.read_csv(databasePath,dtype=str)"
   ]
  },
  {
   "cell_type": "markdown",
   "id": "007cd40e",
   "metadata": {},
   "source": [
    "Check wether mlDatabase is of type 1 (no temperature input) or type 2 (temperature input):"
   ]
  },
  {
   "cell_type": "code",
   "execution_count": 3,
   "id": "d842cecc",
   "metadata": {},
   "outputs": [],
   "source": [
    "if mlDatabase.shape[1]==56: CNN_type=1\n",
    "elif mlDatabase.shape[1]==57: CNN_type=2"
   ]
  },
  {
   "cell_type": "markdown",
   "id": "32822d51",
   "metadata": {},
   "source": [
    "Convert mlDatabase to feature matrix (X) and labels vector (Y):"
   ]
  },
  {
   "cell_type": "code",
   "execution_count": 4,
   "id": "275afb19",
   "metadata": {},
   "outputs": [],
   "source": [
    "# Get columns of interest from mlDatabase (drop index, name, CAS, and notes)\n",
    "A=mlDatabase.iloc[:,3:-1]\n",
    "# Convert to numpy as float64\n",
    "A=A.to_numpy(dtype='float64')\n",
    "# Split into features and labels\n",
    "if CNN_type==1: # Data does not contain a temperature feature\n",
    "    X=A[:,1:] # Features\n",
    "    Y=A[:,0] # Labels\n",
    "elif CNN_type==2: # Data contains a temperature feature\n",
    "    Y=A[:,1] # Labels\n",
    "    X=numpy.delete(A,1,axis=1) # Features"
   ]
  },
  {
   "cell_type": "markdown",
   "id": "38283aaf",
   "metadata": {},
   "source": [
    "Normalize the feature matrix using the previously trained weights:"
   ]
  },
  {
   "cell_type": "code",
   "execution_count": 5,
   "id": "b88652e7",
   "metadata": {},
   "outputs": [],
   "source": [
    "#Load feature normalization weights\n",
    "if CNN_type==1:\n",
    "    scaler_X=pickle.load(open(os.path.join('..','Models',database+'_X_Scaler.pkl'),'rb'))\n",
    "elif CNN_type==2:\n",
    "    scaler_X1=pickle.load(open(os.path.join('..','Models',database+'_X1_Scaler.pkl'),'rb'))\n",
    "    scaler_X2=pickle.load(open(os.path.join('..','Models',database+'_X2_Scaler.pkl'),'rb'))\n",
    "# Normalize Features\n",
    "if CNN_type==1:\n",
    "    # Normalize all features with Log+bStand\n",
    "    X=ml.normalize(X,method='Log+bStand',skScaler=scaler_X)[0]\n",
    "elif CNN_type==2:\n",
    "    # Normalize sigma profile features with logTransform and temperature feature with Standardization\n",
    "    X[:,0:1]=ml.normalize(X[:,0:1],method='Standardization',skScaler=scaler_X1)[0]\n",
    "    X[:,1:]=ml.normalize(X[:,1:],method='Log+bStand',skScaler=scaler_X2)[0]"
   ]
  },
  {
   "cell_type": "markdown",
   "id": "a215adab",
   "metadata": {},
   "source": [
    "Reshape X to input into the first convolution layer:"
   ]
  },
  {
   "cell_type": "code",
   "execution_count": 6,
   "id": "387f99d4",
   "metadata": {},
   "outputs": [],
   "source": [
    "# Reshape for convolution (and for temperature input)\n",
    "X_Input=X.reshape(X.shape[0],X.shape[1],1)\n",
    "if CNN_type==2: # Separate temperature feature from sigma profile features\n",
    "    X_Input=[X_Input[:,1:,0],X_Input[:,0,0]]"
   ]
  },
  {
   "cell_type": "markdown",
   "id": "53aebf40",
   "metadata": {},
   "source": [
    "Load CNN (tensorflow model saved as .h5 file) and print model summary:"
   ]
  },
  {
   "cell_type": "code",
   "execution_count": 7,
   "id": "26c8967e",
   "metadata": {},
   "outputs": [
    {
     "name": "stdout",
     "output_type": "stream",
     "text": [
      "Model: \"model\"\n",
      "_________________________________________________________________\n",
      "Layer (type)                 Output Shape              Param #   \n",
      "=================================================================\n",
      "Layer_0 (InputLayer)         [(None, 51, 1)]           0         \n",
      "_________________________________________________________________\n",
      "Layer_1 (Conv1D)             (None, 51, 10)            110       \n",
      "_________________________________________________________________\n",
      "Layer_2 (MaxPooling1D)       (None, 51, 2)             0         \n",
      "_________________________________________________________________\n",
      "Layer_3 (Conv1D)             (None, 13, 5)             95        \n",
      "_________________________________________________________________\n",
      "Layer_4 (AveragePooling1D)   (None, 13, 1)             0         \n",
      "_________________________________________________________________\n",
      "Layer_5 (Flatten)            (None, 13)                0         \n",
      "_________________________________________________________________\n",
      "Layer_6 (Dense)              (None, 5)                 70        \n",
      "_________________________________________________________________\n",
      "Layer_7 (Dense)              (None, 3)                 18        \n",
      "_________________________________________________________________\n",
      "Layer_8 (Dense)              (None, 1)                 4         \n",
      "=================================================================\n",
      "Total params: 297\n",
      "Trainable params: 297\n",
      "Non-trainable params: 0\n",
      "_________________________________________________________________\n"
     ]
    }
   ],
   "source": [
    "# Load CNN model\n",
    "modelPath=os.path.join('..','Models',database+'.h5')\n",
    "model=tensorflow.keras.models.load_model(modelPath)\n",
    "# Print model summary\n",
    "model.summary()"
   ]
  },
  {
   "cell_type": "markdown",
   "id": "8080956d",
   "metadata": {},
   "source": [
    "Use the CNN to make predictions on X:"
   ]
  },
  {
   "cell_type": "code",
   "execution_count": 8,
   "id": "dbe76259",
   "metadata": {},
   "outputs": [],
   "source": [
    "# Predict\n",
    "Y_Predicted=model.predict(X_Input)"
   ]
  },
  {
   "cell_type": "markdown",
   "id": "6dd8d260",
   "metadata": {},
   "source": [
    "The predictions are normalized. To compare against the experimental data (Y), they need to be unnormalized using the previously trained weights:"
   ]
  },
  {
   "cell_type": "code",
   "execution_count": 9,
   "id": "b9556768",
   "metadata": {},
   "outputs": [],
   "source": [
    "# Load labels normalization weights\n",
    "scaler_Y=pickle.load(open(os.path.join('..','Models',database+'_Y_Scaler.pkl'),'rb'))\n",
    "# Set label normalization type\n",
    "if database=='VP_mlDatabase' or database=='S_mlDatabase' or database=='S_25_mlDatabase':\n",
    "    labelNorm='LogStand'\n",
    "else:\n",
    "    labelNorm='Standardization'\n",
    "# Unnormalize\n",
    "Y_Predicted=ml.normalize(Y_Predicted,method=labelNorm,skScaler=scaler_Y,reverse=True)[0]"
   ]
  },
  {
   "cell_type": "markdown",
   "id": "93a3ada1",
   "metadata": {},
   "source": [
    "Calculate and print R^2"
   ]
  },
  {
   "cell_type": "code",
   "execution_count": 10,
   "id": "54a2e4fe",
   "metadata": {},
   "outputs": [
    {
     "name": "stdout",
     "output_type": "stream",
     "text": [
      "0.9669906644712126\n"
     ]
    }
   ],
   "source": [
    "r2=r2_score(Y,Y_Predicted)\n",
    "print(r2)"
   ]
  },
  {
   "cell_type": "markdown",
   "id": "e09fab7a",
   "metadata": {},
   "source": [
    "Build Predicted VS Experimental plot:"
   ]
  },
  {
   "cell_type": "code",
   "execution_count": 11,
   "id": "f24d8b9b",
   "metadata": {},
   "outputs": [
    {
     "data": {
      "text/plain": [
       "[<matplotlib.lines.Line2D at 0x2205b96a470>]"
      ]
     },
     "execution_count": 11,
     "metadata": {},
     "output_type": "execute_result"
    },
    {
     "data": {
      "image/png": "[encoded data removed]",
      "text/plain": [
       "<Figure size 432x288 with 1 Axes>"
      ]
     },
     "metadata": {
      "needs_background": "light"
     },
     "output_type": "display_data"
    }
   ],
   "source": [
    "if code=='VP' or code=='S_25'or code=='S':\n",
    "    plt.loglog(Y,Y_Predicted,'.k')\n",
    "else:\n",
    "    plt.plot(Y,Y_Predicted,'.k')\n",
    "axes=plt.gca()\n",
    "# Set x and y limits to the same values\n",
    "v_min=min(axes.get_ylim()[0],axes.get_xlim()[0])\n",
    "v_min=v_min-abs(v_min*0.1)\n",
    "v_max=max(axes.get_ylim()[1],axes.get_xlim()[1])\n",
    "v_max=v_max+abs(v_max*0.1)\n",
    "plt.xlim(v_min,v_max)\n",
    "plt.ylim(v_min,v_max)\n",
    "plt.xlabel('Experimental')\n",
    "plt.ylabel('Predicted')\n",
    "plt.plot([0,1],[0,1],'--r',transform=axes.transAxes)"
   ]
  },
  {
   "cell_type": "markdown",
   "id": "08106072",
   "metadata": {},
   "source": [
    "## Section B\n",
    "\n",
    "This section allows the user to evaluate the performance of the CNNs developed in this work on a single compound. The code syntax is identical to section A."
   ]
  },
  {
   "cell_type": "markdown",
   "id": "ec9a0e60",
   "metadata": {},
   "source": [
    "Necessary imports:"
   ]
  },
  {
   "cell_type": "code",
   "execution_count": 12,
   "id": "2be2d11a",
   "metadata": {},
   "outputs": [],
   "source": [
    "# General\n",
    "import os\n",
    "import pickle\n",
    "\n",
    "# Specific\n",
    "import pandas\n",
    "import numpy\n",
    "import tensorflow\n",
    "from sklearn.metrics import r2_score\n",
    "from matplotlib import pyplot as plt\n",
    "\n",
    "# Local\n",
    "from lib import mlAuxiliary as ml"
   ]
  },
  {
   "cell_type": "markdown",
   "id": "c80d4ed9",
   "metadata": {},
   "source": [
    "Choose the database code to be evaluated (MM, BP, VP, D, RI, S, D_20, RI_20,S_25) and load the database:"
   ]
  },
  {
   "cell_type": "code",
   "execution_count": 13,
   "id": "8b205279",
   "metadata": {},
   "outputs": [],
   "source": [
    "# Database\n",
    "code='MM' # Change here to MM, BP, VP, D, RI, S, D_20, RI_20, or S_25, as desired.\n",
    "database=code+'_mlDatabase'\n",
    "# Build databasePath and load database\n",
    "databasePath=os.path.join('..','Databases',database+'.csv')\n",
    "mlDatabase=pandas.read_csv(databasePath,dtype=str)"
   ]
  },
  {
   "cell_type": "markdown",
   "id": "5ea224d1",
   "metadata": {},
   "source": [
    "Choose compound (insert CAS number). If it does not exist on the database selected above, an exception is raised."
   ]
  },
  {
   "cell_type": "code",
   "execution_count": 14,
   "id": "593f2369",
   "metadata": {},
   "outputs": [],
   "source": [
    "CAS='7732-18-5' # Change CAS Number here.\n",
    "mlDatabase=mlDatabase.loc[mlDatabase['CAS Number']==CAS]\n",
    "if mlDatabase.empty:\n",
    "    raise ValueError('CAS Number not found.')"
   ]
  },
  {
   "cell_type": "markdown",
   "id": "00a2f0aa",
   "metadata": {},
   "source": [
    "Check wether mlDatabase is of type 1 (no temperature input) or type 2 (temperature input):"
   ]
  },
  {
   "cell_type": "code",
   "execution_count": 15,
   "id": "9b44bc0f",
   "metadata": {},
   "outputs": [],
   "source": [
    "if mlDatabase.shape[1]==56: CNN_type=1\n",
    "elif mlDatabase.shape[1]==57: CNN_type=2"
   ]
  },
  {
   "cell_type": "markdown",
   "id": "2c9be317",
   "metadata": {},
   "source": [
    "Convert mlDatabase to feature matrix (X) and labels vector (Y):"
   ]
  },
  {
   "cell_type": "code",
   "execution_count": 16,
   "id": "bd5028f7",
   "metadata": {},
   "outputs": [],
   "source": [
    "# Get columns of interest from mlDatabase (drop index, name, CAS, and notes)\n",
    "A=mlDatabase.iloc[:,3:-1]\n",
    "# Convert to numpy as float64\n",
    "A=A.to_numpy(dtype='float64')\n",
    "# Split into features and labels\n",
    "if CNN_type==1: # Data does not contain a temperature feature\n",
    "    X=A[:,1:] # Features\n",
    "    Y=A[:,0] # Labels\n",
    "elif CNN_type==2: # Data contains a temperature feature\n",
    "    Y=A[:,1] # Labels\n",
    "    X=numpy.delete(A,1,axis=1) # Features"
   ]
  },
  {
   "cell_type": "markdown",
   "id": "005e4d45",
   "metadata": {},
   "source": [
    "Normalize the feature matrix using the previously trained weights:"
   ]
  },
  {
   "cell_type": "code",
   "execution_count": 17,
   "id": "c602b9bc",
   "metadata": {},
   "outputs": [],
   "source": [
    "#Load feature normalization weights\n",
    "if CNN_type==1:\n",
    "    scaler_X=pickle.load(open(os.path.join('..','Models',database+'_X_Scaler.pkl'),'rb'))\n",
    "elif CNN_type==2:\n",
    "    scaler_X1=pickle.load(open(os.path.join('..','Models',database+'_X1_Scaler.pkl'),'rb'))\n",
    "    scaler_X2=pickle.load(open(os.path.join('..','Models',database+'_X2_Scaler.pkl'),'rb'))\n",
    "# Normalize Features\n",
    "if CNN_type==1:\n",
    "    # Normalize all features with Log+bStand\n",
    "    X=ml.normalize(X,method='Log+bStand',skScaler=scaler_X)[0]\n",
    "elif CNN_type==2:\n",
    "    # Normalize sigma profile features with logTransform and temperature feature with Standardization\n",
    "    X[:,0:1]=ml.normalize(X[:,0:1],method='Standardization',skScaler=scaler_X1)[0]\n",
    "    X[:,1:]=ml.normalize(X[:,1:],method='Log+bStand',skScaler=scaler_X2)[0]"
   ]
  },
  {
   "cell_type": "markdown",
   "id": "934615b2",
   "metadata": {},
   "source": [
    "Reshape X to input into the first convolution layer:"
   ]
  },
  {
   "cell_type": "code",
   "execution_count": 18,
   "id": "74faa26e",
   "metadata": {},
   "outputs": [],
   "source": [
    "# Reshape for convolution (and for temperature input)\n",
    "X_Input=X.reshape(X.shape[0],X.shape[1],1)\n",
    "if CNN_type==2: # Separate temperature feature from sigma profile features\n",
    "    X_Input=[X_Input[:,1:,0],X_Input[:,0,0]]"
   ]
  },
  {
   "cell_type": "markdown",
   "id": "441db968",
   "metadata": {},
   "source": [
    "Load CNN (tensorflow model saved as .h5 file) and print model summary:"
   ]
  },
  {
   "cell_type": "code",
   "execution_count": 19,
   "id": "b0f570bc",
   "metadata": {},
   "outputs": [
    {
     "name": "stdout",
     "output_type": "stream",
     "text": [
      "Model: \"model\"\n",
      "_________________________________________________________________\n",
      "Layer (type)                 Output Shape              Param #   \n",
      "=================================================================\n",
      "Layer_0 (InputLayer)         [(None, 51, 1)]           0         \n",
      "_________________________________________________________________\n",
      "Layer_1 (Conv1D)             (None, 51, 10)            110       \n",
      "_________________________________________________________________\n",
      "Layer_2 (MaxPooling1D)       (None, 51, 2)             0         \n",
      "_________________________________________________________________\n",
      "Layer_3 (Conv1D)             (None, 13, 5)             95        \n",
      "_________________________________________________________________\n",
      "Layer_4 (AveragePooling1D)   (None, 13, 1)             0         \n",
      "_________________________________________________________________\n",
      "Layer_5 (Flatten)            (None, 13)                0         \n",
      "_________________________________________________________________\n",
      "Layer_6 (Dense)              (None, 5)                 70        \n",
      "_________________________________________________________________\n",
      "Layer_7 (Dense)              (None, 3)                 18        \n",
      "_________________________________________________________________\n",
      "Layer_8 (Dense)              (None, 1)                 4         \n",
      "=================================================================\n",
      "Total params: 297\n",
      "Trainable params: 297\n",
      "Non-trainable params: 0\n",
      "_________________________________________________________________\n"
     ]
    }
   ],
   "source": [
    "# Load CNN model\n",
    "modelPath=os.path.join('..','Models',database+'.h5')\n",
    "model=tensorflow.keras.models.load_model(modelPath)\n",
    "# Print model summary\n",
    "model.summary()"
   ]
  },
  {
   "cell_type": "markdown",
   "id": "a0916307",
   "metadata": {},
   "source": [
    "Use the CNN to make predictions on X:"
   ]
  },
  {
   "cell_type": "code",
   "execution_count": 20,
   "id": "34849eed",
   "metadata": {},
   "outputs": [],
   "source": [
    "# Predict\n",
    "Y_Predicted=model.predict(X_Input)"
   ]
  },
  {
   "cell_type": "markdown",
   "id": "e56c298c",
   "metadata": {},
   "source": [
    "The predictions are normalized. To compare against the experimental data (Y), they need to be unnormalized using the previously trained weights:"
   ]
  },
  {
   "cell_type": "code",
   "execution_count": 21,
   "id": "eb69aa4e",
   "metadata": {},
   "outputs": [],
   "source": [
    "# Load labels normalization weights\n",
    "scaler_Y=pickle.load(open(os.path.join('..','Models',database+'_Y_Scaler.pkl'),'rb'))\n",
    "# Set label normalization type\n",
    "if database=='VP_mlDatabase' or database=='S_mlDatabase' or database=='S_25_mlDatabase':\n",
    "    labelNorm='LogStand'\n",
    "else:\n",
    "    labelNorm='Standardization'\n",
    "# Unnormalize\n",
    "Y_Predicted=ml.normalize(Y_Predicted,method=labelNorm,skScaler=scaler_Y,reverse=True)[0]"
   ]
  },
  {
   "cell_type": "markdown",
   "id": "4d765721",
   "metadata": {},
   "source": [
    "Print predicted and experimental values."
   ]
  },
  {
   "cell_type": "code",
   "execution_count": 22,
   "id": "e1893f25",
   "metadata": {},
   "outputs": [
    {
     "name": "stdout",
     "output_type": "stream",
     "text": [
      "The experimental value is 18.02\n",
      "The predicted value is 26.722273\n"
     ]
    }
   ],
   "source": [
    "print('The experimental value is '+str(Y[0]))\n",
    "print('The predicted value is '+str(Y_Predicted[0,0]))"
   ]
  }
 ],
 "metadata": {
  "kernelspec": {
   "display_name": "Python 3 (ipykernel)",
   "language": "python",
   "name": "python3"
  },
  "language_info": {
   "codemirror_mode": {
    "name": "ipython",
    "version": 3
   },
   "file_extension": ".py",
   "mimetype": "text/x-python",
   "name": "python",
   "nbconvert_exporter": "python",
   "pygments_lexer": "ipython3",
   "version": "3.7.3"
  }
 },
 "nbformat": 4,
 "nbformat_minor": 5
}
